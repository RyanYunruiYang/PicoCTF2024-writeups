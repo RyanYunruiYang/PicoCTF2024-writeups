{
 "cells": [
  {
   "cell_type": "code",
   "execution_count": 8,
   "metadata": {},
   "outputs": [],
   "source": [
    "# Will vary round to round:\n",
    "num1 = 0b01001111\n",
    "num2 = 0b11111010"
   ]
  },
  {
   "cell_type": "code",
   "execution_count": 11,
   "metadata": {},
   "outputs": [
    {
     "name": "stdout",
     "output_type": "stream",
     "text": [
      "0b10011110\n"
     ]
    }
   ],
   "source": [
    "# Question 1/6:\n",
    "# Operation 1: '<<'\n",
    "# Perform a left shift of Binary Number 1 by 1 bits.num3 = num1 << 1\n",
    "print(bin(num3))"
   ]
  },
  {
   "cell_type": "code",
   "execution_count": 12,
   "metadata": {},
   "outputs": [
    {
     "name": "stdout",
     "output_type": "stream",
     "text": [
      "0b1111101\n"
     ]
    }
   ],
   "source": [
    "# Question 2/6:\n",
    "# Operation 2: '>>'\n",
    "# Perform a right shift of Binary Number 2 by 1 bits .\n",
    "num4 = num2 >> 1\n",
    "print(bin(num4))"
   ]
  },
  {
   "cell_type": "code",
   "execution_count": 13,
   "metadata": {},
   "outputs": [
    {
     "name": "stdout",
     "output_type": "stream",
     "text": [
      "0b11111111\n"
     ]
    }
   ],
   "source": [
    "# Question 3/6:\n",
    "# Operation 3: '|'\n",
    "# Perform the operation on Binary Number 1&2.\n",
    "num5 = num1 | num2\n",
    "print(bin(num5))"
   ]
  },
  {
   "cell_type": "code",
   "execution_count": 14,
   "metadata": {},
   "outputs": [
    {
     "name": "stdout",
     "output_type": "stream",
     "text": [
      "0b1001010\n"
     ]
    }
   ],
   "source": [
    "# Question 4/6:\n",
    "# Operation 4: '&'\n",
    "# Perform the operation on Binary Number 1&2.\n",
    "num6 = num1 & num2\n",
    "print(bin(num6))"
   ]
  },
  {
   "cell_type": "code",
   "execution_count": 15,
   "metadata": {},
   "outputs": [
    {
     "name": "stdout",
     "output_type": "stream",
     "text": [
      "0b101001001\n"
     ]
    }
   ],
   "source": [
    "# Question 5/6:\n",
    "# Operation 5: '+'\n",
    "# Perform the operation on Binary Number 1&2.\n",
    "num7 = num1 + num2\n",
    "print(bin(num7))"
   ]
  },
  {
   "cell_type": "code",
   "execution_count": 16,
   "metadata": {},
   "outputs": [
    {
     "name": "stdout",
     "output_type": "stream",
     "text": [
      "0b100110100100110\n"
     ]
    }
   ],
   "source": [
    "# Question 6/6:\n",
    "# Operation 6: '*'\n",
    "# Perform the operation on Binary Number 1&2.\n",
    "num8 = num1 * num2\n",
    "print(bin(num8))"
   ]
  },
  {
   "cell_type": "code",
   "execution_count": 17,
   "metadata": {},
   "outputs": [
    {
     "name": "stdout",
     "output_type": "stream",
     "text": [
      "0x4d26\n"
     ]
    }
   ],
   "source": [
    "# Enter the results of the last operation in hexadecimal: \n",
    "print(hex(num8))"
   ]
  },
  {
   "cell_type": "code",
   "execution_count": null,
   "metadata": {},
   "outputs": [],
   "source": [
    "# And the flag is!\n",
    "# picoCTF{b1tw^3se_0p3eR@tI0n_su33essFuL_675602ae}"
   ]
  }
 ],
 "metadata": {
  "kernelspec": {
   "display_name": "myenv",
   "language": "python",
   "name": "python3"
  },
  "language_info": {
   "codemirror_mode": {
    "name": "ipython",
    "version": 3
   },
   "file_extension": ".py",
   "mimetype": "text/x-python",
   "name": "python",
   "nbconvert_exporter": "python",
   "pygments_lexer": "ipython3",
   "version": "3.11.4"
  }
 },
 "nbformat": 4,
 "nbformat_minor": 2
}
